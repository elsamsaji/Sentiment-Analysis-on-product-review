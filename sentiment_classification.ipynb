{
 "cells": [
  {
   "cell_type": "code",
   "execution_count": 34,
   "metadata": {},
   "outputs": [],
   "source": [
    "import numpy as np\n",
    "import pandas as pd\n",
    "import string\n",
    "import nltk\n",
    "from nltk.corpus import stopwords\n",
    "from nltk.tokenize import word_tokenize \n",
    "from string import digits \n",
    "import re\n",
    "import json"
   ]
  },
  {
   "cell_type": "code",
   "execution_count": 35,
   "metadata": {},
   "outputs": [],
   "source": [
    "from vaderSentiment.vaderSentiment import SentimentIntensityAnalyzer"
   ]
  },
  {
   "cell_type": "code",
   "execution_count": 36,
   "metadata": {},
   "outputs": [],
   "source": [
    "analyser = SentimentIntensityAnalyzer()"
   ]
  },
  {
   "cell_type": "code",
   "execution_count": 45,
   "metadata": {},
   "outputs": [],
   "source": [
    "sentence= (\"cool phone Works good Motorola finally got the voice quality of a bluetooth headset right It looses connection to the phone even when it is within a couple feet between the but it is great i would really recommend Makes it easier to keep up with my bluetooth when Im not wearing itAs I said above....PRETTY USELESs Never got it This pair of headphones is the worst that I have ever hadsound-wise down the drain because of a weak snap\")"
   ]
  },
  {
   "cell_type": "code",
   "execution_count": 38,
   "metadata": {},
   "outputs": [],
   "source": [
    "def sentiment_analyzer_scores(sent):\n",
    "    score = analyser.polarity_scores(sent)\n",
    "    print(\"{:-<40} {}\".format(sent, str(score)))"
   ]
  },
  {
   "cell_type": "code",
   "execution_count": 48,
   "metadata": {},
   "outputs": [
    {
     "name": "stdout",
     "output_type": "stream",
     "text": [
      "cool phone Works good Motorola finally got the voice quality of a bluetooth headset right It looses connection to the phone even when it is within a couple feet between the but it is great i would really recommend Makes it easier to keep up with my bluetooth when Im not wearing itAs I said above....PRETTY USELESs Never got it This pair of headphones is the worst that I have ever hadsound-wise down the drain because of a weak snap {'neg': 0.151, 'neu': 0.676, 'pos': 0.173, 'compound': 0.2823}\n"
     ]
    }
   ],
   "source": [
    "sentiment_analyzer_scores(sentence)\n"
   ]
  },
  {
   "cell_type": "code",
   "execution_count": null,
   "metadata": {},
   "outputs": [],
   "source": []
  }
 ],
 "metadata": {
  "kernelspec": {
   "display_name": "Python 3",
   "language": "python",
   "name": "python3"
  },
  "language_info": {
   "codemirror_mode": {
    "name": "ipython",
    "version": 3
   },
   "file_extension": ".py",
   "mimetype": "text/x-python",
   "name": "python",
   "nbconvert_exporter": "python",
   "pygments_lexer": "ipython3",
   "version": "3.7.3"
  }
 },
 "nbformat": 4,
 "nbformat_minor": 2
}
